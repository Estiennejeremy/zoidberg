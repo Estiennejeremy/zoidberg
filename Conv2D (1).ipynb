{
  "nbformat": 4,
  "nbformat_minor": 0,
  "metadata": {
    "colab": {
      "name": "Conv2D.ipynb",
      "provenance": [],
      "collapsed_sections": [],
      "toc_visible": true
    },
    "kernelspec": {
      "name": "python3",
      "display_name": "Python 3"
    },
    "language_info": {
      "name": "python"
    },
    "accelerator": "GPU"
  },
  "cells": [
    {
      "cell_type": "code",
      "metadata": {
        "id": "o2Y7TofWpWO5"
      },
      "source": [
        "import keras\n",
        "from keras.models import Sequential\n",
        "from keras.preprocessing.image import ImageDataGenerator, load_img\n",
        "from keras.layers import Activation, Dropout, Flatten, Dense\n",
        "from keras import backend as K\n",
        "from keras import regularizers\n",
        "from keras.callbacks import ReduceLROnPlateau\n",
        "from keras.layers import Dense, Dropout, Flatten\n",
        "from keras.layers import Conv2D, MaxPooling2D, Conv3D, BatchNormalization\n",
        "from keras import optimizers\n",
        "from keras import backend as K\n",
        "import matplotlib.pyplot as plt\n"
      ],
      "execution_count": 2,
      "outputs": []
    },
    {
      "cell_type": "code",
      "metadata": {
        "colab": {
          "base_uri": "https://localhost:8080/"
        },
        "id": "_csQUX8i6I7N",
        "outputId": "82a32469-30da-4d2f-e11c-3f900ea108af"
      },
      "source": [
        "train_datagen = ImageDataGenerator(rescale=1/255., horizontal_flip=True,vertical_flip=True, rotation_range=0.4, zoom_range=0.4)\n",
        "test_datagen = ImageDataGenerator(rescale=1./255)\n",
        "\n",
        "training_set = train_datagen.flow_from_directory('/content/drive/MyDrive/data/chest_Xray/train/', target_size=(224, 224), batch_size=8, class_mode='binary')\n",
        "val_set = train_datagen.flow_from_directory('/content/drive/MyDrive/data/chest_Xray/val', target_size=(224, 224), batch_size=8, shuffle=True, class_mode='binary')\n",
        "test_set = test_datagen.flow_from_directory('/content/drive/MyDrive/data/chest_Xray/test',target_size=(224, 224), batch_size=8, class_mode='binary')\n",
        "RLR = ReduceLROnPlateau(monitor='val_loss', factor=0.1,patience=3,cooldown=3,min_lr=0.01, verbose=1)\n",
        "callbacks = [RLR]"
      ],
      "execution_count": 3,
      "outputs": [
        {
          "output_type": "stream",
          "text": [
            "Found 5216 images belonging to 2 classes.\n",
            "Found 16 images belonging to 2 classes.\n",
            "Found 624 images belonging to 2 classes.\n"
          ],
          "name": "stdout"
        }
      ]
    },
    {
      "cell_type": "code",
      "metadata": {
        "colab": {
          "base_uri": "https://localhost:8080/"
        },
        "id": "CbFgATvwB-Ag",
        "outputId": "1f1cf400-9c7b-41e4-c6dd-bcfb5e7aa26a"
      },
      "source": [
        "model = Sequential()\n",
        "model.add(Conv2D(32, kernel_size=(3,3), activation='relu', input_shape=(224, 224, 3)))\n",
        "model.add(MaxPooling2D(pool_size=(2,2)))\n",
        "\n",
        "model.add(Conv2D(64, kernel_size=(3,3), activation='relu'))\n",
        "model.add(MaxPooling2D(pool_size=(2,2)))\n",
        "\n",
        "model.add(Conv2D(128, kernel_size=(3,3), activation='relu'))\n",
        "model.add(MaxPooling2D(pool_size=(2,2)))\n",
        "\n",
        "model.add(Conv2D(256, kernel_size=(3,3), activation='relu'))\n",
        "model.add(MaxPooling2D(pool_size=(2,2)))\n",
        "\n",
        "model.add(Conv2D(512, kernel_size=(3,3), activation='relu'))\n",
        "model.add(MaxPooling2D(pool_size=(2,2)))\n",
        "\n",
        "model.add(Flatten())\n",
        "\n",
        "model.add(Dense(256, activation='relu',kernel_regularizer=regularizers.l1_l2(l1=1e-5, l2=1e-4),\n",
        "        bias_regularizer=regularizers.l2(1e-4), activity_regularizer=regularizers.l2(1e-5)))\n",
        "model.add(Dense(128, activation='relu',kernel_regularizer=regularizers.l1_l2(l1=1e-5, l2=1e-4),\n",
        "        bias_regularizer=regularizers.l2(1e-4),activity_regularizer=regularizers.l2(1e-5)))\n",
        "model.add(Dense(64, activation='relu',kernel_regularizer=regularizers.l1_l2(l1=1e-5, l2=1e-4),\n",
        "        bias_regularizer=regularizers.l2(1e-4),activity_regularizer=regularizers.l2(1e-5)))\n",
        "model.add(Dropout(0.5))\n",
        "\n",
        "model.add(Dense(1, activation='sigmoid',\n",
        "                kernel_regularizer=regularizers.l1_l2(l1=1e-5, l2=1e-4),\n",
        "                bias_regularizer=regularizers.l2(1e-4),activity_regularizer=regularizers.l2(1e-5)))\n",
        "print(model.summary())\n",
        "\n",
        "model.compile(optimizer='adam', loss='binary_crossentropy', metrics=['accuracy'])\n",
        "\n",
        "history = model.fit(training_set,\n",
        "                    steps_per_epoch=5216//8,\n",
        "                    epochs=12,\n",
        "                    validation_data=test_set,\n",
        "                    validation_steps=624//8,\n",
        "                    callbacks=callbacks)"
      ],
      "execution_count": 4,
      "outputs": [
        {
          "output_type": "stream",
          "text": [
            "Model: \"sequential\"\n",
            "_________________________________________________________________\n",
            "Layer (type)                 Output Shape              Param #   \n",
            "=================================================================\n",
            "conv2d (Conv2D)              (None, 222, 222, 32)      896       \n",
            "_________________________________________________________________\n",
            "max_pooling2d (MaxPooling2D) (None, 111, 111, 32)      0         \n",
            "_________________________________________________________________\n",
            "conv2d_1 (Conv2D)            (None, 109, 109, 64)      18496     \n",
            "_________________________________________________________________\n",
            "max_pooling2d_1 (MaxPooling2 (None, 54, 54, 64)        0         \n",
            "_________________________________________________________________\n",
            "conv2d_2 (Conv2D)            (None, 52, 52, 128)       73856     \n",
            "_________________________________________________________________\n",
            "max_pooling2d_2 (MaxPooling2 (None, 26, 26, 128)       0         \n",
            "_________________________________________________________________\n",
            "conv2d_3 (Conv2D)            (None, 24, 24, 256)       295168    \n",
            "_________________________________________________________________\n",
            "max_pooling2d_3 (MaxPooling2 (None, 12, 12, 256)       0         \n",
            "_________________________________________________________________\n",
            "conv2d_4 (Conv2D)            (None, 10, 10, 512)       1180160   \n",
            "_________________________________________________________________\n",
            "max_pooling2d_4 (MaxPooling2 (None, 5, 5, 512)         0         \n",
            "_________________________________________________________________\n",
            "flatten (Flatten)            (None, 12800)             0         \n",
            "_________________________________________________________________\n",
            "dense (Dense)                (None, 256)               3277056   \n",
            "_________________________________________________________________\n",
            "dense_1 (Dense)              (None, 128)               32896     \n",
            "_________________________________________________________________\n",
            "dense_2 (Dense)              (None, 64)                8256      \n",
            "_________________________________________________________________\n",
            "dropout (Dropout)            (None, 64)                0         \n",
            "_________________________________________________________________\n",
            "dense_3 (Dense)              (None, 1)                 65        \n",
            "=================================================================\n",
            "Total params: 4,886,849\n",
            "Trainable params: 4,886,849\n",
            "Non-trainable params: 0\n",
            "_________________________________________________________________\n",
            "None\n",
            "Epoch 1/12\n",
            "652/652 [==============================] - 2365s 4s/step - loss: 0.6783 - accuracy: 0.7338 - val_loss: 0.5748 - val_accuracy: 0.6859\n",
            "Epoch 2/12\n",
            "652/652 [==============================] - 113s 174ms/step - loss: 0.4461 - accuracy: 0.8123 - val_loss: 0.6076 - val_accuracy: 0.7772\n",
            "Epoch 3/12\n",
            "652/652 [==============================] - 113s 174ms/step - loss: 0.3456 - accuracy: 0.8649 - val_loss: 0.3821 - val_accuracy: 0.8734\n",
            "Epoch 4/12\n",
            "652/652 [==============================] - 113s 173ms/step - loss: 0.3014 - accuracy: 0.9005 - val_loss: 0.3943 - val_accuracy: 0.8638\n",
            "Epoch 5/12\n",
            "652/652 [==============================] - 114s 175ms/step - loss: 0.2982 - accuracy: 0.8903 - val_loss: 0.4082 - val_accuracy: 0.8638\n",
            "Epoch 6/12\n",
            "652/652 [==============================] - 113s 174ms/step - loss: 0.2837 - accuracy: 0.8954 - val_loss: 0.3023 - val_accuracy: 0.8910\n",
            "Epoch 7/12\n",
            "652/652 [==============================] - 114s 174ms/step - loss: 0.2699 - accuracy: 0.9001 - val_loss: 0.3127 - val_accuracy: 0.8990\n",
            "Epoch 8/12\n",
            "652/652 [==============================] - 114s 175ms/step - loss: 0.2530 - accuracy: 0.9131 - val_loss: 0.3497 - val_accuracy: 0.9006\n",
            "Epoch 9/12\n",
            "652/652 [==============================] - 114s 174ms/step - loss: 0.2589 - accuracy: 0.9113 - val_loss: 0.3485 - val_accuracy: 0.9103\n",
            "Epoch 10/12\n",
            "652/652 [==============================] - 114s 175ms/step - loss: 0.2408 - accuracy: 0.9168 - val_loss: 0.2987 - val_accuracy: 0.9006\n",
            "Epoch 11/12\n",
            "652/652 [==============================] - 113s 174ms/step - loss: 0.2382 - accuracy: 0.9215 - val_loss: 0.3994 - val_accuracy: 0.8654\n",
            "Epoch 12/12\n",
            "652/652 [==============================] - 113s 174ms/step - loss: 0.2179 - accuracy: 0.9282 - val_loss: 0.5245 - val_accuracy: 0.8173\n"
          ],
          "name": "stdout"
        }
      ]
    },
    {
      "cell_type": "code",
      "metadata": {
        "colab": {
          "base_uri": "https://localhost:8080/",
          "height": 352
        },
        "id": "WWG_wHhokQmJ",
        "outputId": "e30a00c1-d96b-431d-aab4-98418386bd28"
      },
      "source": [
        "ev = model.evaluate(val_set)\n",
        "print(\"\\n%s: %.f%%\" % (model.metrics_names[1], ev[1]*100))\n",
        "\n",
        "acc = history.history['accuracy']\n",
        "val_acc = history.history['val_accuracy']\n",
        "loss = history.history['loss']\n",
        "val_loss = history.history['val_loss']\n",
        "epochs = range(1,len(acc)+1)\n",
        "plt.title(\"accuracy and loss\")\n",
        "plt.plot(epochs, loss, 'bo', label='Training loss',color='red')\n",
        "plt.plot(epochs, val_loss, 'b', label='Validation loss',color='red')\n",
        "plt.plot(epochs, acc, 'bo', label='Training acc',color='green')\n",
        "plt.plot(epochs, val_acc, 'b', label='Validation acc',color='green')\n",
        "plt.legend()"
      ],
      "execution_count": 20,
      "outputs": [
        {
          "output_type": "stream",
          "text": [
            "2/2 [==============================] - 0s 148ms/step - loss: 0.9727 - accuracy: 0.7500\n",
            "\n",
            "accuracy: 75%\n"
          ],
          "name": "stdout"
        },
        {
          "output_type": "execute_result",
          "data": {
            "text/plain": [
              "<matplotlib.legend.Legend at 0x7f7f3ada2890>"
            ]
          },
          "metadata": {
            "tags": []
          },
          "execution_count": 20
        },
        {
          "output_type": "display_data",
          "data": {
            "image/png": "[encoded data removed]",
            "text/plain": [
              "<Figure size 432x288 with 1 Axes>"
            ]
          },
          "metadata": {
            "tags": [],
            "needs_background": "light"
          }
        }
      ]
    }
  ]
}